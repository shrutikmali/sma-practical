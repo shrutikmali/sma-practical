{
  "nbformat": 4,
  "nbformat_minor": 0,
  "metadata": {
    "colab": {
      "provenance": []
    },
    "kernelspec": {
      "name": "python3",
      "display_name": "Python 3"
    },
    "language_info": {
      "name": "python"
    },
    "gpuClass": "standard"
  },
  "cells": [
    {
      "cell_type": "markdown",
      "source": [
        "**Web Scrapping**"
      ],
      "metadata": {
        "id": "Wa-LcTSuFWSO"
      }
    },
    {
      "cell_type": "code",
      "source": [
        "!pip install requests-html\n",
        "!pip install beautifulsoup4"
      ],
      "metadata": {
        "id": "8HQ54zhYFdnt"
      },
      "execution_count": null,
      "outputs": []
    },
    {
      "cell_type": "code",
      "execution_count": 2,
      "metadata": {
        "id": "4-zOlPB2FTqP"
      },
      "outputs": [],
      "source": [
        "# Using requests_html\n",
        "import pandas as pd\n",
        "from requests_html import HTMLSession"
      ]
    },
    {
      "cell_type": "code",
      "source": [
        "session = HTMLSession()\n",
        "page = session.get('https://en.wikipedia.org/wiki/List_of_national_capitals')\n",
        "\n",
        "data = pd.read_html(page.content)\n",
        "data[1]"
      ],
      "metadata": {
        "colab": {
          "base_uri": "https://localhost:8080/",
          "height": 423
        },
        "id": "CCR-QVbfFo_k",
        "outputId": "f1e4146e-0a43-48f5-a5e0-eb130a09933a"
      },
      "execution_count": 3,
      "outputs": [
        {
          "output_type": "execute_result",
          "data": {
            "text/plain": [
              "                                             City/Town     Country/Territory  \\\n",
              "0    Abidjan (former capital; still has many govern...           Ivory Coast   \n",
              "1                              Yamoussoukro (official)           Ivory Coast   \n",
              "2                                            Abu Dhabi  United Arab Emirates   \n",
              "3                                                Abuja               Nigeria   \n",
              "4                                                Accra                 Ghana   \n",
              "..                                                 ...                   ...   \n",
              "261                                           Windhoek               Namibia   \n",
              "262                                            Yaoundé              Cameroon   \n",
              "263                                   Yaren (de facto)                 Nauru   \n",
              "264                                            Yerevan               Armenia   \n",
              "265                                             Zagreb               Croatia   \n",
              "\n",
              "                                                 Notes  \n",
              "0                                                  NaN  \n",
              "1                                                  NaN  \n",
              "2                                                  NaN  \n",
              "3             Lagos was the capital from 1914 to 1991.  \n",
              "4                                                  NaN  \n",
              "..                                                 ...  \n",
              "261                                                NaN  \n",
              "262                                                NaN  \n",
              "263  Nauru has no official capital; however, the go...  \n",
              "264                                                NaN  \n",
              "265                                                NaN  \n",
              "\n",
              "[266 rows x 3 columns]"
            ],
            "text/html": [
              "\n",
              "  <div id=\"df-aa7bcfd7-e2d4-4d85-9223-bce4648994f6\">\n",
              "    <div class=\"colab-df-container\">\n",
              "      <div>\n",
              "<style scoped>\n",
              "    .dataframe tbody tr th:only-of-type {\n",
              "        vertical-align: middle;\n",
              "    }\n",
              "\n",
              "    .dataframe tbody tr th {\n",
              "        vertical-align: top;\n",
              "    }\n",
              "\n",
              "    .dataframe thead th {\n",
              "        text-align: right;\n",
              "    }\n",
              "</style>\n",
              "<table border=\"1\" class=\"dataframe\">\n",
              "  <thead>\n",
              "    <tr style=\"text-align: right;\">\n",
              "      <th></th>\n",
              "      <th>City/Town</th>\n",
              "      <th>Country/Territory</th>\n",
              "      <th>Notes</th>\n",
              "    </tr>\n",
              "  </thead>\n",
              "  <tbody>\n",
              "    <tr>\n",
              "      <th>0</th>\n",
              "      <td>Abidjan (former capital; still has many govern...</td>\n",
              "      <td>Ivory Coast</td>\n",
              "      <td>NaN</td>\n",
              "    </tr>\n",
              "    <tr>\n",
              "      <th>1</th>\n",
              "      <td>Yamoussoukro (official)</td>\n",
              "      <td>Ivory Coast</td>\n",
              "      <td>NaN</td>\n",
              "    </tr>\n",
              "    <tr>\n",
              "      <th>2</th>\n",
              "      <td>Abu Dhabi</td>\n",
              "      <td>United Arab Emirates</td>\n",
              "      <td>NaN</td>\n",
              "    </tr>\n",
              "    <tr>\n",
              "      <th>3</th>\n",
              "      <td>Abuja</td>\n",
              "      <td>Nigeria</td>\n",
              "      <td>Lagos was the capital from 1914 to 1991.</td>\n",
              "    </tr>\n",
              "    <tr>\n",
              "      <th>4</th>\n",
              "      <td>Accra</td>\n",
              "      <td>Ghana</td>\n",
              "      <td>NaN</td>\n",
              "    </tr>\n",
              "    <tr>\n",
              "      <th>...</th>\n",
              "      <td>...</td>\n",
              "      <td>...</td>\n",
              "      <td>...</td>\n",
              "    </tr>\n",
              "    <tr>\n",
              "      <th>261</th>\n",
              "      <td>Windhoek</td>\n",
              "      <td>Namibia</td>\n",
              "      <td>NaN</td>\n",
              "    </tr>\n",
              "    <tr>\n",
              "      <th>262</th>\n",
              "      <td>Yaoundé</td>\n",
              "      <td>Cameroon</td>\n",
              "      <td>NaN</td>\n",
              "    </tr>\n",
              "    <tr>\n",
              "      <th>263</th>\n",
              "      <td>Yaren (de facto)</td>\n",
              "      <td>Nauru</td>\n",
              "      <td>Nauru has no official capital; however, the go...</td>\n",
              "    </tr>\n",
              "    <tr>\n",
              "      <th>264</th>\n",
              "      <td>Yerevan</td>\n",
              "      <td>Armenia</td>\n",
              "      <td>NaN</td>\n",
              "    </tr>\n",
              "    <tr>\n",
              "      <th>265</th>\n",
              "      <td>Zagreb</td>\n",
              "      <td>Croatia</td>\n",
              "      <td>NaN</td>\n",
              "    </tr>\n",
              "  </tbody>\n",
              "</table>\n",
              "<p>266 rows × 3 columns</p>\n",
              "</div>\n",
              "      <button class=\"colab-df-convert\" onclick=\"convertToInteractive('df-aa7bcfd7-e2d4-4d85-9223-bce4648994f6')\"\n",
              "              title=\"Convert this dataframe to an interactive table.\"\n",
              "              style=\"display:none;\">\n",
              "        \n",
              "  <svg xmlns=\"http://www.w3.org/2000/svg\" height=\"24px\"viewBox=\"0 0 24 24\"\n",
              "       width=\"24px\">\n",
              "    <path d=\"M0 0h24v24H0V0z\" fill=\"none\"/>\n",
              "    <path d=\"M18.56 5.44l.94 2.06.94-2.06 2.06-.94-2.06-.94-.94-2.06-.94 2.06-2.06.94zm-11 1L8.5 8.5l.94-2.06 2.06-.94-2.06-.94L8.5 2.5l-.94 2.06-2.06.94zm10 10l.94 2.06.94-2.06 2.06-.94-2.06-.94-.94-2.06-.94 2.06-2.06.94z\"/><path d=\"M17.41 7.96l-1.37-1.37c-.4-.4-.92-.59-1.43-.59-.52 0-1.04.2-1.43.59L10.3 9.45l-7.72 7.72c-.78.78-.78 2.05 0 2.83L4 21.41c.39.39.9.59 1.41.59.51 0 1.02-.2 1.41-.59l7.78-7.78 2.81-2.81c.8-.78.8-2.07 0-2.86zM5.41 20L4 18.59l7.72-7.72 1.47 1.35L5.41 20z\"/>\n",
              "  </svg>\n",
              "      </button>\n",
              "      \n",
              "  <style>\n",
              "    .colab-df-container {\n",
              "      display:flex;\n",
              "      flex-wrap:wrap;\n",
              "      gap: 12px;\n",
              "    }\n",
              "\n",
              "    .colab-df-convert {\n",
              "      background-color: #E8F0FE;\n",
              "      border: none;\n",
              "      border-radius: 50%;\n",
              "      cursor: pointer;\n",
              "      display: none;\n",
              "      fill: #1967D2;\n",
              "      height: 32px;\n",
              "      padding: 0 0 0 0;\n",
              "      width: 32px;\n",
              "    }\n",
              "\n",
              "    .colab-df-convert:hover {\n",
              "      background-color: #E2EBFA;\n",
              "      box-shadow: 0px 1px 2px rgba(60, 64, 67, 0.3), 0px 1px 3px 1px rgba(60, 64, 67, 0.15);\n",
              "      fill: #174EA6;\n",
              "    }\n",
              "\n",
              "    [theme=dark] .colab-df-convert {\n",
              "      background-color: #3B4455;\n",
              "      fill: #D2E3FC;\n",
              "    }\n",
              "\n",
              "    [theme=dark] .colab-df-convert:hover {\n",
              "      background-color: #434B5C;\n",
              "      box-shadow: 0px 1px 3px 1px rgba(0, 0, 0, 0.15);\n",
              "      filter: drop-shadow(0px 1px 2px rgba(0, 0, 0, 0.3));\n",
              "      fill: #FFFFFF;\n",
              "    }\n",
              "  </style>\n",
              "\n",
              "      <script>\n",
              "        const buttonEl =\n",
              "          document.querySelector('#df-aa7bcfd7-e2d4-4d85-9223-bce4648994f6 button.colab-df-convert');\n",
              "        buttonEl.style.display =\n",
              "          google.colab.kernel.accessAllowed ? 'block' : 'none';\n",
              "\n",
              "        async function convertToInteractive(key) {\n",
              "          const element = document.querySelector('#df-aa7bcfd7-e2d4-4d85-9223-bce4648994f6');\n",
              "          const dataTable =\n",
              "            await google.colab.kernel.invokeFunction('convertToInteractive',\n",
              "                                                     [key], {});\n",
              "          if (!dataTable) return;\n",
              "\n",
              "          const docLinkHtml = 'Like what you see? Visit the ' +\n",
              "            '<a target=\"_blank\" href=https://colab.research.google.com/notebooks/data_table.ipynb>data table notebook</a>'\n",
              "            + ' to learn more about interactive tables.';\n",
              "          element.innerHTML = '';\n",
              "          dataTable['output_type'] = 'display_data';\n",
              "          await google.colab.output.renderOutput(dataTable, element);\n",
              "          const docLink = document.createElement('div');\n",
              "          docLink.innerHTML = docLinkHtml;\n",
              "          element.appendChild(docLink);\n",
              "        }\n",
              "      </script>\n",
              "    </div>\n",
              "  </div>\n",
              "  "
            ]
          },
          "metadata": {},
          "execution_count": 3
        }
      ]
    },
    {
      "cell_type": "code",
      "source": [
        "# Using beautiful soup\n",
        "from bs4 import BeautifulSoup\n",
        "import requests\n",
        "\n",
        "page = requests.get('https://www.imdb.com/chart/top/')\n",
        "soup = BeautifulSoup(page.text, 'html')\n",
        "table = soup.find_all('table')\n",
        "\n",
        "df = pd.read_html(str(table))\n",
        "df[0].columns"
      ],
      "metadata": {
        "colab": {
          "base_uri": "https://localhost:8080/",
          "height": 0
        },
        "id": "-k00qsdYF6kF",
        "outputId": "ab7e2275-44cb-4cb2-cbfd-26c72e48d880"
      },
      "execution_count": 4,
      "outputs": [
        {
          "output_type": "execute_result",
          "data": {
            "text/plain": [
              "Index(['Unnamed: 0', 'Rank & Title', 'IMDb Rating', 'Your Rating',\n",
              "       'Unnamed: 4'],\n",
              "      dtype='object')"
            ]
          },
          "metadata": {},
          "execution_count": 4
        }
      ]
    },
    {
      "cell_type": "code",
      "source": [
        "cleaned_df = df[0].drop(columns=['Unnamed: 0', 'Unnamed: 4', 'Your Rating'])\n",
        "cleaned_df"
      ],
      "metadata": {
        "colab": {
          "base_uri": "https://localhost:8080/",
          "height": 423
        },
        "id": "0XrqYg84G95j",
        "outputId": "01fab514-a5a3-4a8d-e2be-d0fa0d530053"
      },
      "execution_count": 5,
      "outputs": [
        {
          "output_type": "execute_result",
          "data": {
            "text/plain": [
              "                            Rank & Title  IMDb Rating\n",
              "0    1.  The Shawshank Redemption (1994)          9.2\n",
              "1               2.  The Godfather (1972)          9.2\n",
              "2             3.  The Dark Knight (2008)          9.0\n",
              "3       4.  The Godfather Part II (1974)          9.0\n",
              "4                5.  12 Angry Men (1957)          9.0\n",
              "..                                   ...          ...\n",
              "245          246.  The Iron Giant (1999)          8.0\n",
              "246                247.  The Help (2011)          8.0\n",
              "247                 248.  Aladdin (1992)          8.0\n",
              "248             249.  Dersu Uzala (1975)          8.0\n",
              "249      250.  Dances with Wolves (1990)          8.0\n",
              "\n",
              "[250 rows x 2 columns]"
            ],
            "text/html": [
              "\n",
              "  <div id=\"df-2b2c15f6-c1ab-4769-ade3-ba3ae156312a\">\n",
              "    <div class=\"colab-df-container\">\n",
              "      <div>\n",
              "<style scoped>\n",
              "    .dataframe tbody tr th:only-of-type {\n",
              "        vertical-align: middle;\n",
              "    }\n",
              "\n",
              "    .dataframe tbody tr th {\n",
              "        vertical-align: top;\n",
              "    }\n",
              "\n",
              "    .dataframe thead th {\n",
              "        text-align: right;\n",
              "    }\n",
              "</style>\n",
              "<table border=\"1\" class=\"dataframe\">\n",
              "  <thead>\n",
              "    <tr style=\"text-align: right;\">\n",
              "      <th></th>\n",
              "      <th>Rank &amp; Title</th>\n",
              "      <th>IMDb Rating</th>\n",
              "    </tr>\n",
              "  </thead>\n",
              "  <tbody>\n",
              "    <tr>\n",
              "      <th>0</th>\n",
              "      <td>1.  The Shawshank Redemption (1994)</td>\n",
              "      <td>9.2</td>\n",
              "    </tr>\n",
              "    <tr>\n",
              "      <th>1</th>\n",
              "      <td>2.  The Godfather (1972)</td>\n",
              "      <td>9.2</td>\n",
              "    </tr>\n",
              "    <tr>\n",
              "      <th>2</th>\n",
              "      <td>3.  The Dark Knight (2008)</td>\n",
              "      <td>9.0</td>\n",
              "    </tr>\n",
              "    <tr>\n",
              "      <th>3</th>\n",
              "      <td>4.  The Godfather Part II (1974)</td>\n",
              "      <td>9.0</td>\n",
              "    </tr>\n",
              "    <tr>\n",
              "      <th>4</th>\n",
              "      <td>5.  12 Angry Men (1957)</td>\n",
              "      <td>9.0</td>\n",
              "    </tr>\n",
              "    <tr>\n",
              "      <th>...</th>\n",
              "      <td>...</td>\n",
              "      <td>...</td>\n",
              "    </tr>\n",
              "    <tr>\n",
              "      <th>245</th>\n",
              "      <td>246.  The Iron Giant (1999)</td>\n",
              "      <td>8.0</td>\n",
              "    </tr>\n",
              "    <tr>\n",
              "      <th>246</th>\n",
              "      <td>247.  The Help (2011)</td>\n",
              "      <td>8.0</td>\n",
              "    </tr>\n",
              "    <tr>\n",
              "      <th>247</th>\n",
              "      <td>248.  Aladdin (1992)</td>\n",
              "      <td>8.0</td>\n",
              "    </tr>\n",
              "    <tr>\n",
              "      <th>248</th>\n",
              "      <td>249.  Dersu Uzala (1975)</td>\n",
              "      <td>8.0</td>\n",
              "    </tr>\n",
              "    <tr>\n",
              "      <th>249</th>\n",
              "      <td>250.  Dances with Wolves (1990)</td>\n",
              "      <td>8.0</td>\n",
              "    </tr>\n",
              "  </tbody>\n",
              "</table>\n",
              "<p>250 rows × 2 columns</p>\n",
              "</div>\n",
              "      <button class=\"colab-df-convert\" onclick=\"convertToInteractive('df-2b2c15f6-c1ab-4769-ade3-ba3ae156312a')\"\n",
              "              title=\"Convert this dataframe to an interactive table.\"\n",
              "              style=\"display:none;\">\n",
              "        \n",
              "  <svg xmlns=\"http://www.w3.org/2000/svg\" height=\"24px\"viewBox=\"0 0 24 24\"\n",
              "       width=\"24px\">\n",
              "    <path d=\"M0 0h24v24H0V0z\" fill=\"none\"/>\n",
              "    <path d=\"M18.56 5.44l.94 2.06.94-2.06 2.06-.94-2.06-.94-.94-2.06-.94 2.06-2.06.94zm-11 1L8.5 8.5l.94-2.06 2.06-.94-2.06-.94L8.5 2.5l-.94 2.06-2.06.94zm10 10l.94 2.06.94-2.06 2.06-.94-2.06-.94-.94-2.06-.94 2.06-2.06.94z\"/><path d=\"M17.41 7.96l-1.37-1.37c-.4-.4-.92-.59-1.43-.59-.52 0-1.04.2-1.43.59L10.3 9.45l-7.72 7.72c-.78.78-.78 2.05 0 2.83L4 21.41c.39.39.9.59 1.41.59.51 0 1.02-.2 1.41-.59l7.78-7.78 2.81-2.81c.8-.78.8-2.07 0-2.86zM5.41 20L4 18.59l7.72-7.72 1.47 1.35L5.41 20z\"/>\n",
              "  </svg>\n",
              "      </button>\n",
              "      \n",
              "  <style>\n",
              "    .colab-df-container {\n",
              "      display:flex;\n",
              "      flex-wrap:wrap;\n",
              "      gap: 12px;\n",
              "    }\n",
              "\n",
              "    .colab-df-convert {\n",
              "      background-color: #E8F0FE;\n",
              "      border: none;\n",
              "      border-radius: 50%;\n",
              "      cursor: pointer;\n",
              "      display: none;\n",
              "      fill: #1967D2;\n",
              "      height: 32px;\n",
              "      padding: 0 0 0 0;\n",
              "      width: 32px;\n",
              "    }\n",
              "\n",
              "    .colab-df-convert:hover {\n",
              "      background-color: #E2EBFA;\n",
              "      box-shadow: 0px 1px 2px rgba(60, 64, 67, 0.3), 0px 1px 3px 1px rgba(60, 64, 67, 0.15);\n",
              "      fill: #174EA6;\n",
              "    }\n",
              "\n",
              "    [theme=dark] .colab-df-convert {\n",
              "      background-color: #3B4455;\n",
              "      fill: #D2E3FC;\n",
              "    }\n",
              "\n",
              "    [theme=dark] .colab-df-convert:hover {\n",
              "      background-color: #434B5C;\n",
              "      box-shadow: 0px 1px 3px 1px rgba(0, 0, 0, 0.15);\n",
              "      filter: drop-shadow(0px 1px 2px rgba(0, 0, 0, 0.3));\n",
              "      fill: #FFFFFF;\n",
              "    }\n",
              "  </style>\n",
              "\n",
              "      <script>\n",
              "        const buttonEl =\n",
              "          document.querySelector('#df-2b2c15f6-c1ab-4769-ade3-ba3ae156312a button.colab-df-convert');\n",
              "        buttonEl.style.display =\n",
              "          google.colab.kernel.accessAllowed ? 'block' : 'none';\n",
              "\n",
              "        async function convertToInteractive(key) {\n",
              "          const element = document.querySelector('#df-2b2c15f6-c1ab-4769-ade3-ba3ae156312a');\n",
              "          const dataTable =\n",
              "            await google.colab.kernel.invokeFunction('convertToInteractive',\n",
              "                                                     [key], {});\n",
              "          if (!dataTable) return;\n",
              "\n",
              "          const docLinkHtml = 'Like what you see? Visit the ' +\n",
              "            '<a target=\"_blank\" href=https://colab.research.google.com/notebooks/data_table.ipynb>data table notebook</a>'\n",
              "            + ' to learn more about interactive tables.';\n",
              "          element.innerHTML = '';\n",
              "          dataTable['output_type'] = 'display_data';\n",
              "          await google.colab.output.renderOutput(dataTable, element);\n",
              "          const docLink = document.createElement('div');\n",
              "          docLink.innerHTML = docLinkHtml;\n",
              "          element.appendChild(docLink);\n",
              "        }\n",
              "      </script>\n",
              "    </div>\n",
              "  </div>\n",
              "  "
            ]
          },
          "metadata": {},
          "execution_count": 5
        }
      ]
    },
    {
      "cell_type": "markdown",
      "source": [
        "**Twitter Sentiment Analysis**"
      ],
      "metadata": {
        "id": "TXkYaVZMIf_d"
      }
    },
    {
      "cell_type": "code",
      "source": [
        "from textblob import TextBlob"
      ],
      "metadata": {
        "id": "n5l0aQb6Hecv"
      },
      "execution_count": 6,
      "outputs": []
    },
    {
      "cell_type": "code",
      "source": [
        "def sentiment_analysis(text):\n",
        "  txt_blob = TextBlob(text)\n",
        "  print(txt_blob.sentiment)\n",
        "\n",
        "sentiment_analysis(\"This movie was badly directed\")"
      ],
      "metadata": {
        "colab": {
          "base_uri": "https://localhost:8080/",
          "height": 0
        },
        "id": "cmRwNKHpDskr",
        "outputId": "7af0b805-3470-4525-fb6c-edd47e89807e"
      },
      "execution_count": 7,
      "outputs": [
        {
          "output_type": "stream",
          "name": "stdout",
          "text": [
            "Sentiment(polarity=-0.6999999999999998, subjectivity=0.6666666666666666)\n"
          ]
        }
      ]
    },
    {
      "cell_type": "markdown",
      "source": [
        "**Text Summarisation using Spacy**"
      ],
      "metadata": {
        "id": "_oRkF1EMI1LX"
      }
    },
    {
      "cell_type": "code",
      "source": [
        "!pip install spacy"
      ],
      "metadata": {
        "id": "3U3NYSaDI8QZ"
      },
      "execution_count": 8,
      "outputs": []
    },
    {
      "cell_type": "code",
      "source": [
        "import spacy\n",
        "from spacy.lang.en.stop_words import STOP_WORDS\n",
        "from string import punctuation\n",
        "from collections import Counter\n",
        "from heapq import nlargest"
      ],
      "metadata": {
        "id": "MxmtC1GvJv4f"
      },
      "execution_count": 9,
      "outputs": []
    },
    {
      "cell_type": "code",
      "source": [
        "nlp = spacy.load('en_core_web_sm')\n",
        "TEXT = \"\"\"Machine learning (ML) is the scientific study of algorithms and statistical models that computer systems use to progressively improve their performance on a specific task. Machine learning algorithms build a mathematical model of sample data, known as “training data”, in order to make predictions or decisions without being explicitly programmed to perform the task. Machine learning algorithms are used in the applications of email filtering, detection of network intruders, and computer vision, where it is infeasible to develop an algorithm of specific instructions for performing the task. Machine learning is closely related to computational statistics, which focuses on making predictions using computers. The study of mathematical optimization delivers methods, theory and application domains to the field of machine learning. Data mining is a field of study within machine learning and focuses on exploratory data analysis through unsupervised learning. In its application across business problems, machine learning is also referred to as predictive analytics.\"\"\""
      ],
      "metadata": {
        "id": "A4IOtWiyKp31"
      },
      "execution_count": 10,
      "outputs": []
    },
    {
      "cell_type": "code",
      "source": [
        "doc = nlp(TEXT)\n"
      ],
      "metadata": {
        "id": "C9O-vemmKyr2"
      },
      "execution_count": 11,
      "outputs": []
    },
    {
      "cell_type": "code",
      "source": [
        "keywords = []\n",
        "stop_words = list(STOP_WORDS)\n",
        "post_tag = ['PROPN', 'ADJ', 'NOUN', 'VERB']\n",
        "\n",
        "for token in doc:\n",
        "  if(token.text in stop_words or token.text in punctuation):\n",
        "    continue\n",
        "  if(token.pos_ in post_tag):\n",
        "    keywords.append(token.text)\n"
      ],
      "metadata": {
        "id": "zIWOfCjtLAQ4"
      },
      "execution_count": 12,
      "outputs": []
    },
    {
      "cell_type": "code",
      "source": [
        "freq_word = Counter(keywords)\n",
        "freq_word.most_common(5)"
      ],
      "metadata": {
        "colab": {
          "base_uri": "https://localhost:8080/",
          "height": 0
        },
        "id": "d1rPG8atLauG",
        "outputId": "146e5ec1-dabd-4cdd-9467-051b9963bb77"
      },
      "execution_count": 13,
      "outputs": [
        {
          "output_type": "execute_result",
          "data": {
            "text/plain": [
              "[('learning', 8), ('Machine', 4), ('study', 3), ('algorithms', 3), ('task', 3)]"
            ]
          },
          "metadata": {},
          "execution_count": 13
        }
      ]
    },
    {
      "cell_type": "code",
      "source": [
        "max_freq = Counter(keywords).most_common()[0][1]\n",
        "\n",
        "for word in freq_word.keys():\n",
        "  freq_word[word] = freq_word[word] / max_freq"
      ],
      "metadata": {
        "id": "HEr3rkyjLfBl"
      },
      "execution_count": 14,
      "outputs": []
    },
    {
      "cell_type": "code",
      "source": [
        "sent_strength = {}\n",
        "for sent in doc.sents:\n",
        "  for word in sent:\n",
        "    if word.text in freq_word.keys():\n",
        "      if sent in sent_strength.keys():\n",
        "        sent_strength[sent] += freq_word[word]\n",
        "      else:\n",
        "        sent_strength[sent] = freq_word[word]\n",
        "print(sent_strength)"
      ],
      "metadata": {
        "colab": {
          "base_uri": "https://localhost:8080/",
          "height": 0
        },
        "id": "LRgMb4fSLm-K",
        "outputId": "fb4e8550-56a2-457f-9b4e-1a3b16d8ccd3"
      },
      "execution_count": 15,
      "outputs": [
        {
          "output_type": "stream",
          "name": "stdout",
          "text": [
            "{Machine learning (ML) is the scientific study of algorithms and statistical models that computer systems use to progressively improve their performance on a specific task.: 0, Machine learning algorithms build a mathematical model of sample data, known as “training data”, in order to make predictions or decisions without being explicitly programmed to perform the task.: 0, Machine learning algorithms are used in the applications of email filtering, detection of network intruders, and computer vision, where it is infeasible to develop an algorithm of specific instructions for performing the task.: 0, Machine learning is closely related to computational statistics, which focuses on making predictions using computers.: 0, The study of mathematical optimization delivers methods, theory and application domains to the field of machine learning.: 0, Data mining is a field of study within machine learning and focuses on exploratory data analysis through unsupervised learning.: 0, In its application across business problems, machine learning is also referred to as predictive analytics.: 0}\n"
          ]
        }
      ]
    },
    {
      "cell_type": "code",
      "source": [
        "summary = nlargest(3, sent_strength, key=sent_strength.get)\n",
        "summary\n",
        "ans = ''\n",
        "for sent in summary:\n",
        "  ans = ans + str(sent.text) + ' '\n",
        "ans"
      ],
      "metadata": {
        "colab": {
          "base_uri": "https://localhost:8080/",
          "height": 88
        },
        "id": "5akV0f91MROz",
        "outputId": "e6b5f1fc-1b91-471e-fd41-7f2b24307c51"
      },
      "execution_count": 16,
      "outputs": [
        {
          "output_type": "execute_result",
          "data": {
            "text/plain": [
              "'Machine learning (ML) is the scientific study of algorithms and statistical models that computer systems use to progressively improve their performance on a specific task. Machine learning algorithms build a mathematical model of sample data, known as “training data”, in order to make predictions or decisions without being explicitly programmed to perform the task. Machine learning algorithms are used in the applications of email filtering, detection of network intruders, and computer vision, where it is infeasible to develop an algorithm of specific instructions for performing the task. '"
            ],
            "application/vnd.google.colaboratory.intrinsic+json": {
              "type": "string"
            }
          },
          "metadata": {},
          "execution_count": 16
        }
      ]
    },
    {
      "cell_type": "code",
      "source": [
        "# Text summarisation using gensim\n",
        "\n",
        "!pip install gensim==3.8.3 # Required for summarize. Restart runtime after install\n",
        "\n",
        "from gensim.summarization import summarize\n",
        "summarize(TEXT)"
      ],
      "metadata": {
        "colab": {
          "base_uri": "https://localhost:8080/",
          "height": 174
        },
        "id": "KEcKUFzVMqLv",
        "outputId": "3fafd92e-b6f9-4f12-ea0c-9f69f40a2ba1"
      },
      "execution_count": 17,
      "outputs": [
        {
          "output_type": "stream",
          "name": "stdout",
          "text": [
            "Looking in indexes: https://pypi.org/simple, https://us-python.pkg.dev/colab-wheels/public/simple/\n",
            "Requirement already satisfied: gensim==3.8.3 in /usr/local/lib/python3.9/dist-packages (3.8.3)\n",
            "Requirement already satisfied: smart-open>=1.8.1 in /usr/local/lib/python3.9/dist-packages (from gensim==3.8.3) (6.3.0)\n",
            "Requirement already satisfied: numpy>=1.11.3 in /usr/local/lib/python3.9/dist-packages (from gensim==3.8.3) (1.22.4)\n",
            "Requirement already satisfied: scipy>=0.18.1 in /usr/local/lib/python3.9/dist-packages (from gensim==3.8.3) (1.10.1)\n",
            "Requirement already satisfied: six>=1.5.0 in /usr/local/lib/python3.9/dist-packages (from gensim==3.8.3) (1.16.0)\n"
          ]
        },
        {
          "output_type": "stream",
          "name": "stderr",
          "text": [
            "WARNING:gensim.summarization.summarizer:Input text is expected to have at least 10 sentences.\n",
            "WARNING:gensim.summarization.summarizer:Input corpus is expected to have at least 10 documents.\n"
          ]
        },
        {
          "output_type": "execute_result",
          "data": {
            "text/plain": [
              "'Machine learning (ML) is the scientific study of algorithms and statistical models that computer systems use to progressively improve their performance on a specific task.'"
            ],
            "application/vnd.google.colaboratory.intrinsic+json": {
              "type": "string"
            }
          },
          "metadata": {},
          "execution_count": 17
        }
      ]
    },
    {
      "cell_type": "markdown",
      "source": [
        "**Network measures**"
      ],
      "metadata": {
        "id": "sKERAm-pQfRU"
      }
    },
    {
      "cell_type": "code",
      "source": [
        "!pip install networkx"
      ],
      "metadata": {
        "colab": {
          "base_uri": "https://localhost:8080/",
          "height": 0
        },
        "id": "bXZzbAL7Pr4j",
        "outputId": "dd800158-1812-487f-ff0f-cda59a9a12cc"
      },
      "execution_count": 18,
      "outputs": [
        {
          "output_type": "stream",
          "name": "stdout",
          "text": [
            "Looking in indexes: https://pypi.org/simple, https://us-python.pkg.dev/colab-wheels/public/simple/\n",
            "Requirement already satisfied: networkx in /usr/local/lib/python3.9/dist-packages (3.1)\n"
          ]
        }
      ]
    },
    {
      "cell_type": "code",
      "source": [
        "import networkx as nx\n",
        "import matplotlib.pyplot as plt"
      ],
      "metadata": {
        "id": "xCeSj0wQRjmP"
      },
      "execution_count": 19,
      "outputs": []
    },
    {
      "cell_type": "code",
      "source": [
        "graph = nx.Graph()\n",
        "\n",
        "N = 5 # Number of nodes in the graph\n",
        "\n",
        "graph.add_nodes_from(list(range(N)))\n",
        "\n",
        "EDGES = [\n",
        "    [0, 1],\n",
        "    [1, 2],\n",
        "    [1, 3],\n",
        "    [2, 4],\n",
        "    [3, 4],\n",
        "    [0, 4]\n",
        "]\n",
        "\n",
        "# use graph.add_edge((u, v)) to add single edge\n",
        "# use graph.add_edges_from([(u,v)..]) to add list of edges\n",
        "\n",
        "graph.add_edges_from(EDGES)\n",
        "\n",
        "# use:\n",
        "  # nx.draw(graph)\n",
        "  # plt.show()\n",
        "# To draw graph\n",
        "nx.draw(graph, with_labels = True, font_color='white')\n",
        "plt.show()"
      ],
      "metadata": {
        "id": "aRgx8zkWVzkH",
        "colab": {
          "base_uri": "https://localhost:8080/",
          "height": 516
        },
        "outputId": "5ed5d293-9f7a-4219-9ba9-2ea30c0ffaea"
      },
      "execution_count": 20,
      "outputs": [
        {
          "output_type": "display_data",
          "data": {
            "text/plain": [
              "<Figure size 640x480 with 1 Axes>"
            ],
            "image/png": "[encoded data removed]"
          },
          "metadata": {}
        }
      ]
    },
    {
      "cell_type": "code",
      "source": [
        "# Centrality measures\n",
        "\n",
        "betweeness = nx.betweenness_centrality(graph)\n",
        "closeness = nx.closeness_centrality(graph)\n",
        "eigenvector = nx.eigenvector_centrality(graph)\n",
        "katz = nx.katz_centrality(graph)\n",
        "degree = nx.degree_centrality(graph)\n",
        "\n",
        "print(\"Betweenness:\", betweeness)\n",
        "print(\"Closeness:\", closeness)\n",
        "print(\"Eigenvector:\", eigenvector)\n",
        "print(\"Katz:\", katz)\n",
        "print(\"Degree:\", degree)"
      ],
      "metadata": {
        "colab": {
          "base_uri": "https://localhost:8080/",
          "height": 0
        },
        "id": "osySNLMeNayq",
        "outputId": "3bf34020-cf47-49b6-be27-b5056ba0a7a7"
      },
      "execution_count": 21,
      "outputs": [
        {
          "output_type": "stream",
          "name": "stdout",
          "text": [
            "Betweenness: {0: 0.05555555555555555, 1: 0.25, 2: 0.05555555555555555, 3: 0.05555555555555555, 4: 0.25}\n",
            "Closeness: {0: 0.6666666666666666, 1: 0.8, 2: 0.6666666666666666, 3: 0.6666666666666666, 4: 0.8}\n",
            "Eigenvector: {0: 0.4082485111514333, 1: 0.4999997297138842, 2: 0.4082485111514333, 3: 0.4082485111514333, 4: 0.4999997297138842}\n",
            "Katz: {0: 0.43244999098836634, 1: 0.4684874682862316, 2: 0.43244999098836634, 3: 0.43244999098836634, 4: 0.4684874682862316}\n",
            "Degree: {0: 0.5, 1: 0.75, 2: 0.5, 3: 0.5, 4: 0.75}\n"
          ]
        }
      ]
    },
    {
      "cell_type": "markdown",
      "source": [
        "**Sentiment analysis**"
      ],
      "metadata": {
        "id": "KZ3Dp7N4WlYQ"
      }
    },
    {
      "cell_type": "code",
      "source": [
        "DATASET = [\n",
        "    ['Good book', 1],\n",
        "    ['Good movie', 1],\n",
        "    ['Good show', 1],\n",
        "    ['Good car', 1],\n",
        "    ['Good bus', 1],\n",
        "    ['Good food', 1],\n",
        "    ['Bad book', 0],\n",
        "    ['Bad movie', 0],\n",
        "    ['Bad show', 0],\n",
        "    ['Bad bus', 0],\n",
        "    ['Bad food', 0],\n",
        "    ['Bad car', 0],\n",
        "]\n",
        "\n",
        "sentences = []\n",
        "sentiments = []\n",
        "for pair in DATASET:\n",
        "  sentences.append(pair[0])\n",
        "  sentiments.append(pair[1])"
      ],
      "metadata": {
        "id": "UOR7LIlih9QC"
      },
      "execution_count": 22,
      "outputs": []
    },
    {
      "cell_type": "code",
      "source": [
        "from sklearn.feature_extraction.text import CountVectorizer\n",
        "\n",
        "vectorizer = CountVectorizer(stop_words='english', ngram_range=(1, 1))\n",
        "vectors = vectorizer.fit_transform(sentences)\n",
        "vectors.toarray()"
      ],
      "metadata": {
        "colab": {
          "base_uri": "https://localhost:8080/",
          "height": 0
        },
        "id": "8DN99N7-iVd0",
        "outputId": "4959d830-d1d0-48f3-9cfa-ec503062e640"
      },
      "execution_count": 23,
      "outputs": [
        {
          "output_type": "execute_result",
          "data": {
            "text/plain": [
              "array([[0, 1, 0, 0, 0, 1, 0],\n",
              "       [0, 0, 0, 0, 0, 1, 1],\n",
              "       [0, 0, 0, 0, 0, 1, 0],\n",
              "       [0, 0, 0, 1, 0, 1, 0],\n",
              "       [0, 0, 1, 0, 0, 1, 0],\n",
              "       [0, 0, 0, 0, 1, 1, 0],\n",
              "       [1, 1, 0, 0, 0, 0, 0],\n",
              "       [1, 0, 0, 0, 0, 0, 1],\n",
              "       [1, 0, 0, 0, 0, 0, 0],\n",
              "       [1, 0, 1, 0, 0, 0, 0],\n",
              "       [1, 0, 0, 0, 1, 0, 0],\n",
              "       [1, 0, 0, 1, 0, 0, 0]])"
            ]
          },
          "metadata": {},
          "execution_count": 23
        }
      ]
    },
    {
      "cell_type": "code",
      "source": [
        "from sklearn.model_selection import train_test_split\n",
        "from sklearn.naive_bayes import MultinomialNB\n",
        "\n",
        "x = vectors.toarray()\n",
        "y = sentiments\n",
        "X_train, X_test, Y_train, Y_test = train_test_split(x, y, test_size=0.3, random_state = 0)"
      ],
      "metadata": {
        "id": "XT27zYfji_vB"
      },
      "execution_count": 24,
      "outputs": []
    },
    {
      "cell_type": "code",
      "source": [
        "nb = MultinomialNB()\n",
        "y_pred = nb.fit(X_train, Y_train).predict(X_test)"
      ],
      "metadata": {
        "id": "myHH-nyRkfGR"
      },
      "execution_count": 25,
      "outputs": []
    },
    {
      "cell_type": "code",
      "source": [
        "from sklearn import metrics\n",
        "\n",
        "accuracy = metrics.accuracy_score(y_pred, Y_test)\n",
        "accuracy"
      ],
      "metadata": {
        "colab": {
          "base_uri": "https://localhost:8080/",
          "height": 0
        },
        "id": "69uvM2sck005",
        "outputId": "c303a462-f564-4c23-e80b-ad3c6902173a"
      },
      "execution_count": 26,
      "outputs": [
        {
          "output_type": "execute_result",
          "data": {
            "text/plain": [
              "1.0"
            ]
          },
          "metadata": {},
          "execution_count": 26
        }
      ]
    },
    {
      "cell_type": "markdown",
      "source": [
        "**TF-IDF**"
      ],
      "metadata": {
        "id": "eIcefmJrlfYL"
      }
    },
    {
      "cell_type": "code",
      "source": [
        "TEXT1 = '''Python is a high-level, general-purpose programming language. Its design philosophy emphasizes code readability with the use of significant indentation. Python is dynamically typed and garbage-collected. It supports multiple programming paradigms, including structured (particularly procedural), object-oriented and functional programming. It is often described as a \"batteries included\" language due to its comprehensive standard library. Today, Python is very high in demand and all the major companies are looking for great Python Programmers to develop websites, software components, and applications or to work with Data Science, AI, and ML technologies. When we are developing this tutorial in 2022, there is a high shortage of Python Programmers where as market demands more number of Python Programmers due to it's application in Machine Learning, Artificial Intelligence etc.'''\n",
        "TEXT2 = '''Python is a general-purpose, versatile, and powerful programming language. It’s a great first language because Python code is concise and easy to read. Whatever you want to do, python can do it. From web development to machine learning to data science, Python is the language for you.'''\n",
        "TEXT3 = '''Python was first released in 1991. Over 30 years later, Python remains one of the most popular programming languages among hobbyist and professional developers worldwide. TIOBE declared Python the programming language of the year in 2021. This was the third time Python won these honors in the last five years alone. The Python programming language is highly developed, both culturally and technically. Python developers often call themselves Pythonistas. The Python language even has its own philosophy: the Zen of Python. With versatile use cases across various industries, Python developers are in high demand. So, should you join the ranks of Python developers and become a Pythonista yourself?'''\n",
        "\n",
        "TEXT1 = TEXT1.lower()\n",
        "TEXT2 = TEXT2.lower()\n",
        "TEXT3 = TEXT3.lower()\n"
      ],
      "metadata": {
        "id": "wd2uQKYFlhcp"
      },
      "execution_count": 27,
      "outputs": []
    },
    {
      "cell_type": "code",
      "source": [
        "import nltk\n",
        "from nltk.corpus import stopwords\n",
        "nltk.download('stopwords')\n",
        "sw = stopwords.words('english')\n",
        "\n",
        "# nltk.download('stopwords') May or may not be required"
      ],
      "metadata": {
        "colab": {
          "base_uri": "https://localhost:8080/",
          "height": 0
        },
        "id": "ow4Jz68MmUaJ",
        "outputId": "b8b30f0a-dbc3-4a07-b1f8-35afc1e47f07"
      },
      "execution_count": 28,
      "outputs": [
        {
          "output_type": "stream",
          "name": "stderr",
          "text": [
            "[nltk_data] Downloading package stopwords to /root/nltk_data...\n",
            "[nltk_data]   Package stopwords is already up-to-date!\n"
          ]
        }
      ]
    },
    {
      "cell_type": "code",
      "source": [
        "import math\n",
        "\n",
        "# Removing stop words\n",
        "def remove_stopwords(text):\n",
        "  text = text.split(\" \")\n",
        "  cleaned = []\n",
        "  for word in text:\n",
        "    if word not in sw:\n",
        "      cleaned.append(word)\n",
        "  return cleaned\n",
        "\n",
        "\n",
        "# Get frequency dict of list of words\n",
        "def get_freq(words):\n",
        "  freq = {}\n",
        "  for word in words:\n",
        "    if word not in freq:\n",
        "      freq[word] = 1\n",
        "    else:\n",
        "      freq[word] += 1\n",
        "\n",
        "  return freq\n",
        "\n",
        "\n",
        "# Get term-frequency\n",
        "def get_tf(words, total_words):\n",
        "  tf = {}\n",
        "  for word in words.keys():\n",
        "    tf[word] = words[word] / total_words\n",
        "  \n",
        "  return tf\n",
        "\n",
        "# Get idf\n",
        "def get_idf(words, documents):\n",
        "  idf = {}\n",
        "  for word in words:\n",
        "    count = 0\n",
        "    for document in documents:\n",
        "      if word in document:\n",
        "        count += 1\n",
        "    \n",
        "    idf[word] = math.log(len(documents) / count)\n",
        "  \n",
        "  return idf\n",
        "\n",
        "# Get tf-idf\n",
        "def get_tfidf(tf, idf):\n",
        "  tfidf = {}\n",
        "  for key in tf.keys():\n",
        "    tfidf[key] = tf[key] * idf[key]\n",
        "\n",
        "  return tfidf"
      ],
      "metadata": {
        "id": "7r1nlJPimZQE"
      },
      "execution_count": 29,
      "outputs": []
    },
    {
      "cell_type": "code",
      "source": [
        "list1 = remove_stopwords(TEXT1)\n",
        "list2 = remove_stopwords(TEXT2)\n",
        "list3 = remove_stopwords(TEXT3)\n",
        "\n",
        "document = [list1, list2 ,list3]\n",
        "\n",
        "freq_1 = get_freq(list1)\n",
        "freq_2 = get_freq(list2)\n",
        "freq_3 = get_freq(list3)\n",
        "\n",
        "len_1 = len(list1)\n",
        "len_2 = len(list2)\n",
        "len_3 = len(list3)\n",
        "\n",
        "tf_1 = get_tf(freq_1, len_1)\n",
        "tf_2 = get_tf(freq_2, len_2)\n",
        "tf_3 = get_tf(freq_3, len_3)\n",
        "\n",
        "idf_1 = get_idf(set(freq_1), document)\n",
        "idf_2 = get_idf(set(freq_2), document)\n",
        "idf_3 = get_idf(set(freq_3), document)\n",
        "\n",
        "tfidf_1 = get_tfidf(tf_1, idf_1)\n",
        "tfidf_2 = get_tfidf(tf_2, idf_2)\n",
        "tfidf_3 = get_tfidf(tf_3, idf_3)\n",
        "\n",
        "print(tfidf_1)\n",
        "print(tfidf_2)\n",
        "print(tfidf_3)"
      ],
      "metadata": {
        "colab": {
          "base_uri": "https://localhost:8080/",
          "height": 0
        },
        "id": "u6aiDyYCm9VR",
        "outputId": "932984a9-a63c-481b-e8d5-a2cd76a87642"
      },
      "execution_count": 30,
      "outputs": [
        {
          "output_type": "stream",
          "name": "stdout",
          "text": [
            "{'python': 0.0, 'high-level,': 0.014267692060624804, 'general-purpose': 0.014267692060624804, 'programming': 0.0, 'language.': 0.005265780624781356, 'design': 0.014267692060624804, 'philosophy': 0.014267692060624804, 'emphasizes': 0.014267692060624804, 'code': 0.005265780624781356, 'readability': 0.014267692060624804, 'use': 0.005265780624781356, 'significant': 0.014267692060624804, 'indentation.': 0.014267692060624804, 'dynamically': 0.014267692060624804, 'typed': 0.014267692060624804, 'garbage-collected.': 0.014267692060624804, 'supports': 0.014267692060624804, 'multiple': 0.014267692060624804, 'paradigms,': 0.014267692060624804, 'including': 0.014267692060624804, 'structured': 0.014267692060624804, '(particularly': 0.014267692060624804, 'procedural),': 0.014267692060624804, 'object-oriented': 0.014267692060624804, 'functional': 0.014267692060624804, 'programming.': 0.014267692060624804, 'often': 0.005265780624781356, 'described': 0.014267692060624804, '\"batteries': 0.014267692060624804, 'included\"': 0.014267692060624804, 'language': 0.0, 'due': 0.028535384121249608, 'comprehensive': 0.014267692060624804, 'standard': 0.014267692060624804, 'library.': 0.014267692060624804, 'today,': 0.014267692060624804, 'high': 0.010531561249562713, 'demand': 0.014267692060624804, 'major': 0.014267692060624804, 'companies': 0.014267692060624804, 'looking': 0.014267692060624804, 'great': 0.005265780624781356, 'programmers': 0.04280307618187441, 'develop': 0.014267692060624804, 'websites,': 0.014267692060624804, 'software': 0.014267692060624804, 'components,': 0.014267692060624804, 'applications': 0.014267692060624804, 'work': 0.014267692060624804, 'data': 0.005265780624781356, 'science,': 0.005265780624781356, 'ai,': 0.014267692060624804, 'ml': 0.014267692060624804, 'technologies.': 0.014267692060624804, 'developing': 0.014267692060624804, 'tutorial': 0.014267692060624804, '2022,': 0.014267692060624804, 'shortage': 0.014267692060624804, 'market': 0.014267692060624804, 'demands': 0.014267692060624804, 'number': 0.014267692060624804, 'application': 0.014267692060624804, 'machine': 0.005265780624781356, 'learning,': 0.014267692060624804, 'artificial': 0.014267692060624804, 'intelligence': 0.014267692060624804, 'etc.': 0.014267692060624804}\n",
            "{'python': 0.0, 'general-purpose,': 0.03788318236786586, 'versatile,': 0.03788318236786586, 'powerful': 0.03788318236786586, 'programming': 0.0, 'language.': 0.013981555452005669, 'it’s': 0.03788318236786586, 'great': 0.013981555452005669, 'first': 0.013981555452005669, 'language': 0.0, 'code': 0.013981555452005669, 'concise': 0.03788318236786586, 'easy': 0.03788318236786586, 'read.': 0.03788318236786586, 'whatever': 0.03788318236786586, 'want': 0.03788318236786586, 'do,': 0.03788318236786586, 'it.': 0.03788318236786586, 'web': 0.03788318236786586, 'development': 0.03788318236786586, 'machine': 0.013981555452005669, 'learning': 0.03788318236786586, 'data': 0.013981555452005669, 'science,': 0.013981555452005669, 'you.': 0.03788318236786586}\n",
            "{'python': 0.0, 'first': 0.005876305914611078, 'released': 0.015921917227074055, '1991.': 0.015921917227074055, '30': 0.015921917227074055, 'years': 0.03184383445414811, 'later,': 0.015921917227074055, 'remains': 0.015921917227074055, 'one': 0.015921917227074055, 'popular': 0.015921917227074055, 'programming': 0.0, 'languages': 0.015921917227074055, 'among': 0.015921917227074055, 'hobbyist': 0.015921917227074055, 'professional': 0.015921917227074055, 'developers': 0.06368766890829622, 'worldwide.': 0.015921917227074055, 'tiobe': 0.015921917227074055, 'declared': 0.015921917227074055, 'language': 0.0, 'year': 0.015921917227074055, '2021.': 0.015921917227074055, 'third': 0.015921917227074055, 'time': 0.015921917227074055, 'honors': 0.015921917227074055, 'last': 0.015921917227074055, 'five': 0.015921917227074055, 'alone.': 0.015921917227074055, 'highly': 0.015921917227074055, 'developed,': 0.015921917227074055, 'culturally': 0.015921917227074055, 'technically.': 0.015921917227074055, 'often': 0.005876305914611078, 'call': 0.015921917227074055, 'pythonistas.': 0.015921917227074055, 'even': 0.015921917227074055, 'philosophy:': 0.015921917227074055, 'zen': 0.015921917227074055, 'python.': 0.015921917227074055, 'versatile': 0.015921917227074055, 'use': 0.005876305914611078, 'cases': 0.015921917227074055, 'across': 0.015921917227074055, 'various': 0.015921917227074055, 'industries,': 0.015921917227074055, 'high': 0.005876305914611078, 'demand.': 0.015921917227074055, 'so,': 0.015921917227074055, 'join': 0.015921917227074055, 'ranks': 0.015921917227074055, 'become': 0.015921917227074055, 'pythonista': 0.015921917227074055, 'yourself?': 0.015921917227074055}\n"
          ]
        }
      ]
    },
    {
      "cell_type": "code",
      "source": [],
      "metadata": {
        "id": "sv8EoR3yP_hZ"
      },
      "execution_count": 30,
      "outputs": []
    }
  ]
}